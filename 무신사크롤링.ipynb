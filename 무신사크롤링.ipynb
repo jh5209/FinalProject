{
 "cells": [
  {
   "cell_type": "code",
   "execution_count": null,
   "metadata": {},
   "outputs": [],
   "source": [
    "from bs4 import BeautifulSoup\n",
    "from urllib.request import urlopen\n",
    "\n",
    "def get_upper_category():\n",
    "    main_url = urlopen('https://www.musinsa.com/ranking/best')\n",
    "    _main_page = BeautifulSoup(main_url, 'html.parser')\n",
    "    \n",
    "    upper_category = [category \n",
    "                     for category in _main_page.findAll('strong',{'class':'title'})]\n",
    "    \n",
    "    print('<전체 카테고리 목록>')\n",
    "    for category in upper_category:\n",
    "        print(category.get_text())\n",
    "    return upper_category\n",
    "        upper_category = [category \n",
    "                     for category in _main_page.findAll('strong',{'class':'title'})]\n",
    "    \n",
    "    \n",
    "def get_lower_category(upper_category):\n",
    "    main_category = input('어느 카테고리를 검색할까요? ')\n",
    "    for category_searcher in upper_category:\n",
    "        if main_category == category_searcher.get_text():\n",
    "            lower_category_info = [category \n",
    "                              for category in category_searcher.parent.parent.parent.findAll('li')]\n",
    "    \n",
    "    lower_category=[]\n",
    "    for s in lower_category_info:\n",
    "        tmp_category = []\n",
    "        tmp = s.get_text().split()\n",
    "        category_name = ''\n",
    "        for n in range(0, len(tmp) - 1):\n",
    "            category_name+=tmp[n]\n",
    "        tmp_category = [s.a.attrs['href'], category_name]\n",
    "        lower_category.append(tmp_category)\n",
    "    \n",
    "    print('<하위 카테고리 목록>')\n",
    "    for c in lower_category:\n",
    "        print(c[1])\n",
    "    return lower_category"
   ]
  }
 ],
 "metadata": {
  "interpreter": {
   "hash": "8fac594bfae6525c0c41b4041d2d72effa188cc8ead05f81b1fab2bb098927fb"
  },
  "kernelspec": {
   "display_name": "Python 3.9.7 ('base')",
   "language": "python",
   "name": "python3"
  },
  "language_info": {
   "codemirror_mode": {
    "name": "ipython",
    "version": 3
   },
   "file_extension": ".py",
   "mimetype": "text/x-python",
   "name": "python",
   "nbconvert_exporter": "python",
   "pygments_lexer": "ipython3",
   "version": "3.9.7"
  },
  "orig_nbformat": 4
 },
 "nbformat": 4,
 "nbformat_minor": 2
}
