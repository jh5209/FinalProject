{
 "cells": [
  {
   "cell_type": "markdown",
   "metadata": {},
   "source": [
    "### add"
   ]
  },
  {
   "cell_type": "code",
   "execution_count": 23,
   "metadata": {},
   "outputs": [],
   "source": [
    "import pandas as pd\n",
    "import numpy as np\n",
    "import os"
   ]
  },
  {
   "cell_type": "markdown",
   "metadata": {},
   "source": [
    "클래스"
   ]
  },
  {
   "cell_type": "code",
   "execution_count": null,
   "metadata": {},
   "outputs": [],
   "source": [
    "# 조상클래스 선언\n",
    "class FileImport:\n",
    "    file = ''\n",
    "    mon = 0\n",
    "    \n",
    "    # 생성자 생성\n",
    "    def __init__(self, file):\n",
    "        self.file = file\n",
    "        \n",
    "    def file_import(self, file):\n",
    "        df = pd.read_csv('{}.csv'.format(file),encoding='cp949')\n",
    "        print(df[:5])\n",
    "        self.add_column(df) \n",
    "    \n",
    "    # 연도 컬럼 추가\n",
    "    def add_column(self, mon, df):\n",
    "        i = mon\n",
    "        df['month'] = i\n",
    "        print(df[:5])\n",
    "        return df\n",
    "\n",
    "# 데이터프레임 csv파일로 저장       \n",
    "class SaveCSV(FileImport):\n",
    "    def __init__(self, file):\n",
    "        super().__init__(file)\n",
    "        \n",
    "    def save_csv(self, AddColumn, FileImport):\n",
    "        df = AddColumn.df\n",
    "        df.to_csv('{}.csv'.format(FilImport.file), index=False, encoding='cp949')"
   ]
  },
  {
   "cell_type": "markdown",
   "metadata": {},
   "source": [
    "함수"
   ]
  },
  {
   "cell_type": "code",
   "execution_count": 50,
   "metadata": {},
   "outputs": [],
   "source": [
    "# 파일 불러오기\n",
    "def file_import(file):\n",
    "    df = pd.read_csv('{}.csv'.format(file),encoding='cp949')\n",
    "    df.head()\n",
    "    return df"
   ]
  },
  {
   "cell_type": "code",
   "execution_count": 25,
   "metadata": {},
   "outputs": [],
   "source": [
    "def add_column(df, mon):\n",
    "    i = mon\n",
    "    df['month'] = i\n",
    "    df.head()\n",
    "    return df"
   ]
  },
  {
   "cell_type": "code",
   "execution_count": 51,
   "metadata": {},
   "outputs": [],
   "source": [
    "# 데이터프레임 csv파일로 저장\n",
    "def save_csv(df, file):\n",
    "    df.to_csv('{}.csv'.format(file), index=False, encoding='cp949')"
   ]
  },
  {
   "cell_type": "markdown",
   "metadata": {},
   "source": [
    "main 함수"
   ]
  },
  {
   "cell_type": "code",
   "execution_count": 52,
   "metadata": {},
   "outputs": [],
   "source": [
    "if __name__ == '__main__':\n",
    "    # year = [2018, 2019, 2020, 2021, 2022]\n",
    "    year = [18, 19, 20, 21, 22]\n",
    "    month = ['01', '02', '03', '04', '05', '06', '07', '08', '09', '10', '11', '12']\n",
    "    # for i in year:\n",
    "    #     for j in range(1, 13):\n",
    "    #         try:\n",
    "    #             # file = f'C:\\\\Users\\\\User\\\\Desktop\\\\유니혼\\\\월별\\\\캠핑{i}_{j}월_count'\n",
    "    #             # file = f'C:\\\\Users\\\\User\\\\Desktop\\\\유니혼\\\\트위터_월별\\\\{i}년 {j}월'\n",
    " \n",
    "\n",
    "    #             df = file_import(file)   \n",
    "    #             if j < 10:\n",
    "    #                 mon = f'{i}-0{j}'\n",
    "    #             else:\n",
    "    #                 mon = f'{i}-{j}'\n",
    "    #             df = add_column(df, mon)\n",
    "    #             save_csv(df, file)\n",
    "    #         except:\n",
    "    #             pass\n",
    "\n",
    "    for i in year:\n",
    "        for j in month:\n",
    "            try:\n",
    "                file = f'C:\\\\Users\\\\User\\\\Desktop\\\\유니혼\\\\뉴스_차박\\\\차박{i}{j}_WC(title)' \n",
    "                df = file_import(file)   \n",
    "                if j == '10'|'11'|'12':\n",
    "                    mon = f'{i}-{j}'\n",
    "                else:\n",
    "                    mon = f'{i}-0{j}'\n",
    "                df = add_column(df, mon)\n",
    "                save_csv(df, file)\n",
    "            except:\n",
    "                pass"
   ]
  }
 ],
 "metadata": {
  "kernelspec": {
   "display_name": "Python 3.9.7 ('base')",
   "language": "python",
   "name": "python3"
  },
  "language_info": {
   "codemirror_mode": {
    "name": "ipython",
    "version": 3
   },
   "file_extension": ".py",
   "mimetype": "text/x-python",
   "name": "python",
   "nbconvert_exporter": "python",
   "pygments_lexer": "ipython3",
   "version": "3.9.7"
  },
  "orig_nbformat": 4,
  "vscode": {
   "interpreter": {
    "hash": "5179d32cf6ec497baf3f8a3ef987cc77c5d2dc691fdde20a56316522f61a7323"
   }
  }
 },
 "nbformat": 4,
 "nbformat_minor": 2
}
